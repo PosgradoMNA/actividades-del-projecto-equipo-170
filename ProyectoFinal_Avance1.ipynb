{
  "nbformat": 4,
  "nbformat_minor": 0,
  "metadata": {
    "colab": {
      "provenance": [],
      "collapsed_sections": [],
      "include_colab_link": true
    },
    "kernelspec": {
      "name": "python3",
      "display_name": "Python 3"
    },
    "language_info": {
      "name": "python"
    }
  },
  "cells": [
    {
      "cell_type": "markdown",
      "metadata": {
        "id": "view-in-github",
        "colab_type": "text"
      },
      "source": [
        "<a href=\"https://colab.research.google.com/github/PosgradoMNA/actividades-del-projecto-equipo-170/blob/main/ProyectoFinal_Avance1.ipynb\" target=\"_parent\"><img src=\"https://colab.research.google.com/assets/colab-badge.svg\" alt=\"Open In Colab\"/></a>"
      ]
    },
    {
      "cell_type": "markdown",
      "source": [
        "#**Dataset: Cryptocurrency Historical Prices**\n",
        "##**Organización: CoinMarketCap**\n",
        "###Enlace: https://www.kaggle.com/datasets/sudalairajkumar/cryptocurrencypricehistory"
      ],
      "metadata": {
        "id": "3gOezO3X4SR2"
      }
    },
    {
      "cell_type": "markdown",
      "source": [
        "###**Descripción**\n",
        "Este dataset contiene información del precio histórico de algunas de las criptomonedas más reconocidas en el mercado. Se cuenta con un archivo tipo CSV por cada critomoneda y cada archivo contiene los precios históricos diarios de la moneda desde el 28 de Abril del 2013.\n",
        "\n",
        "Columnas:\n",
        "* Date: Día de la observación.\n",
        "* Open: Precio de apertura.\n",
        "* High: Precio más alto.\n",
        "* Low: Precio más bajo.\n",
        "* Close: Precio de cierre.\n",
        "* Volume: Volumen de transacciones.\n",
        "* Market Cap: Capitalización del mercado en dolares.\n",
        "\n",
        "¿Cuáles son algunas preguntas de investigación que podrían responder?\n",
        "1. ¿Cómo ha cambiado el precio histórico de una criptomoneda a través del tiempo?\n",
        "2. ¿Cuál será el valor futuro de alguna criptomoneda?\n",
        "3. ¿Qué criptomonedas son más estables?\n",
        "4. ¿Que criptomonedas son más volátiles?\n",
        "5. ¿Cómo se correlaciona la fluctuación del precio de unas monedas con otras?\n",
        "6. ¿Cuál es la tendencia estacional según las fluctuaciones en los precios?\n",
        "7. ¿Cuándo y cuánto invertir?\n",
        "8. ¿En qué fechas han bajado más los precios de las criptomonedas?\n",
        "\n",
        "¿Qué entidad estaría interesada en las preguntas mencionadas?\n",
        "* Bolsa de Valores\n",
        "* Inversionistas\n",
        "* Traders\n",
        "* Brokers\n",
        "\n"
      ],
      "metadata": {
        "id": "ID6DuLgo7Xp5"
      }
    }
  ]
}