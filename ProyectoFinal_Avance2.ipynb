{
  "nbformat": 4,
  "nbformat_minor": 0,
  "metadata": {
    "colab": {
      "provenance": [],
      "collapsed_sections": [],
      "toc_visible": true,
      "include_colab_link": true
    },
    "kernelspec": {
      "name": "python3",
      "display_name": "Python 3"
    },
    "language_info": {
      "name": "python"
    }
  },
  "cells": [
    {
      "cell_type": "markdown",
      "metadata": {
        "id": "view-in-github",
        "colab_type": "text"
      },
      "source": [
        "<a href=\"https://colab.research.google.com/github/PosgradoMNA/actividades-del-projecto-equipo-170/blob/main/ProyectoFinal_Avance2.ipynb\" target=\"_parent\"><img src=\"https://colab.research.google.com/assets/colab-badge.svg\" alt=\"Open In Colab\"/></a>"
      ]
    },
    {
      "cell_type": "markdown",
      "source": [
        "#**Metodología: CRISP-DM**\n",
        "##**Etapas**\n",
        "###**I. Comprensión del Negocio**\n",
        "Implica comprender desde un punto de vista de negocio lo que los clientes realmente están buscando.\n",
        "###**II. Comprensión de los Datos**\n",
        "En esta etapa se obtiene la recoleccion de datos y se procede a tener acercamiento a ellos, dándonos cuenta de los problemas de calidad de los datos así como el conocimiento que nos puede aportar.\n",
        "###**III. Preparación de los Datos**\n",
        "Se busca mejorar la calidad y asegurar que la estructura de los datos sea la correcta para su posterior uso.\n",
        "###**IV. Modelado**\n",
        "En esta etapa se seleccionan y aplican las técnicas de modelado más adecuadas para el conjunto de datos.\n",
        "###**V. Evaluación**\n",
        "Consiste en probar, validar y corregir los modelos seleccionados para elegir los mejores para el proyecto.\n",
        "###**VI. Implementación**\n",
        "Se trata de la fase final en donde se busca desarrollar y documentar la implementación del modelo, así como su plan de mantenimiento y reporte final para asegurar su funcionamiento para nuevos datos.\n"
      ],
      "metadata": {
        "id": "zosQx-01pYEE"
      }
    }
  ]
}